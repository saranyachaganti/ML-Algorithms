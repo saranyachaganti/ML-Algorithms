{
 "cells": [
  {
   "cell_type": "markdown",
   "metadata": {},
   "source": [
    "### Importing the necessary libraries"
   ]
  },
  {
   "cell_type": "code",
   "execution_count": 1,
   "metadata": {},
   "outputs": [],
   "source": [
    "import pandas as pd\n",
    "import numpy as np\n",
    "import sklearn\n",
    "from sklearn import linear_model\n",
    "import matplotlib.pyplot as pyplot\n",
    "import pickle\n",
    "from matplotlib import style\n",
    "from sklearn.utils import shuffle"
   ]
  },
  {
   "cell_type": "markdown",
   "metadata": {},
   "source": [
    "### Reading and printing the data"
   ]
  },
  {
   "cell_type": "code",
   "execution_count": 2,
   "metadata": {},
   "outputs": [
    {
     "name": "stdout",
     "output_type": "stream",
     "text": [
      "   G1  G2  G3  studytime  failures  absences\n",
      "0   5   6   6          2         0         6\n",
      "1   5   5   6          2         0         4\n",
      "2   7   8  10          2         3        10\n",
      "3  15  14  15          3         0         2\n",
      "4   6  10  10          2         0         4\n"
     ]
    }
   ],
   "source": [
    "data1 = pd.read_csv(\"student-mat.csv\", sep=\";\")\n",
    "data = data1[[\"G1\", \"G2\" , \"G3\" , \"studytime\" , \"failures\", \"absences\"]]\n",
    "print(data.head())"
   ]
  },
  {
   "cell_type": "code",
   "execution_count": 3,
   "metadata": {},
   "outputs": [],
   "source": [
    "predict = \"G3\""
   ]
  },
  {
   "cell_type": "code",
   "execution_count": 4,
   "metadata": {},
   "outputs": [],
   "source": [
    "X = np.array(data.drop([predict], 1))\n",
    "Y = np.array(data[predict])"
   ]
  },
  {
   "cell_type": "markdown",
   "metadata": {},
   "source": [
    "### Splitting data to test and train"
   ]
  },
  {
   "cell_type": "code",
   "execution_count": 5,
   "metadata": {},
   "outputs": [],
   "source": [
    "x_train, x_test, y_train, y_test = sklearn.model_selection.train_test_split(X, Y, test_size=0.1)"
   ]
  },
  {
   "cell_type": "markdown",
   "metadata": {},
   "source": [
    "### Fitting to the model"
   ]
  },
  {
   "cell_type": "code",
   "execution_count": 6,
   "metadata": {},
   "outputs": [
    {
     "name": "stdout",
     "output_type": "stream",
     "text": [
      "0.8323201817549084\n"
     ]
    }
   ],
   "source": [
    "linear = linear_model.LinearRegression()\n",
    "linear.fit(x_train,y_train)\n",
    "acc = linear.score(x_test,y_test)\n",
    "print(acc)"
   ]
  },
  {
   "cell_type": "markdown",
   "metadata": {},
   "source": [
    "### Pickle the file just in case you needed for deploying as such "
   ]
  },
  {
   "cell_type": "code",
   "execution_count": 7,
   "metadata": {},
   "outputs": [],
   "source": [
    "with open(\"studentmodel.pickle\",\"wb\") as f:\n",
    "   pickle.dump(linear, f)\n",
    "\n",
    "pickle_in = open(\"studentmodel.pickle\", \"rb\")\n",
    "linear = pickle.load(pickle_in)"
   ]
  },
  {
   "cell_type": "code",
   "execution_count": 8,
   "metadata": {},
   "outputs": [
    {
     "name": "stdout",
     "output_type": "stream",
     "text": [
      "Coefficient: \n",
      " [ 0.15006247  0.97062148 -0.22132996 -0.33553369  0.04149443]\n",
      "Intercept: \n",
      " -1.2750679515952452\n"
     ]
    }
   ],
   "source": [
    "print('Coefficient: \\n', linear.coef_)\n",
    "print('Intercept: \\n', linear.intercept_)"
   ]
  },
  {
   "cell_type": "code",
   "execution_count": 9,
   "metadata": {},
   "outputs": [],
   "source": [
    "predictions = linear.predict(x_test)"
   ]
  },
  {
   "cell_type": "code",
   "execution_count": 10,
   "metadata": {},
   "outputs": [
    {
     "name": "stdout",
     "output_type": "stream",
     "text": [
      "8.451416538128075 [9 9 2 0 2] 10\n",
      "8.43969517544933 [8 9 1 0 0] 8\n",
      "15.258509101863558 [15 15  2  0  4] 15\n",
      "8.30135407062025 [8 9 2 0 2] 10\n",
      "8.713906569413146 [ 8  8  1  0 30] 8\n",
      "14.078279017857884 [16 14  4  0  6] 15\n",
      "4.051669593118916 [5 5 2 0 4] 6\n",
      "10.51664278290883 [13 10  2  1 22] 11\n",
      "16.268488560057257 [16 16  4  0 12] 16\n",
      "14.796600336661344 [11 15  1  0  2] 15\n",
      "19.895501259660065 [18 19  1  0  6] 19\n",
      "11.013018511153046 [10 11  1  0  8] 10\n",
      "19.00786863478212 [18 18  1  0  8] 18\n",
      "7.595614412189272 [ 7  8  2  0 12] 8\n",
      "8.153799014318912 [ 9  9  2  2 11] 9\n",
      "10.159608178864836 [ 8 11  2  0  0] 11\n",
      "8.30135407062025 [8 9 2 0 2] 8\n",
      "12.8517791103787 [11 13  1  1 10] 13\n",
      "7.5478686637805605 [10  8  2  0  0] 9\n",
      "18.260889886340095 [18 18  4  0  6] 18\n",
      "14.149546513667836 [15 14  3  0  6] 14\n",
      "12.701101015629412 [12 13  2  0  0] 14\n",
      "10.831125544706081 [11 11  1  0  0] 12\n",
      "7.09768126125709 [7 8 2 0 0] 0\n",
      "13.821116243949769 [11 12  2  0 54] 11\n",
      "5.327930843599743 [7 7 2 3 5] 7\n",
      "12.942295444755315 [14 13  3  1 12] 13\n",
      "12.0942654651567 [10 12  2  0 16] 11\n",
      "3.921550613462972 [6 5 1 1 0] 0\n",
      "13.821784966503875 [13 14  2  0  0] 15\n",
      "8.380149042318122 [10  9  3  0  2] 9\n",
      "13.554511347917623 [14 13  1  0  8] 13\n",
      "13.893052462313827 [12 14  1  0  0] 15\n",
      "11.979446107728862 [12 12  2  0  6] 12\n",
      "10.909920516403952 [13 11  2  0  0] 10\n",
      "12.788283760908936 [10 13  1  0  4] 14\n",
      "12.78408987411811 [12 13  2  0  2] 13\n",
      "5.377768257841586 [7 6 1 0 0] 0\n",
      "9.054839477459943 [ 6 10  2  0  4] 10\n",
      "17.873326866811624 [17 17  2  0 13] 17\n"
     ]
    }
   ],
   "source": [
    "for x in range(len(predictions)):\n",
    "    print(predictions[x], x_test[x], y_test[x])"
   ]
  },
  {
   "cell_type": "markdown",
   "metadata": {},
   "source": [
    "### You can change the parameters to see the different trends in the data"
   ]
  },
  {
   "cell_type": "code",
   "execution_count": 11,
   "metadata": {},
   "outputs": [
    {
     "data": {
      "image/png": "[encoded data removed]",
      "text/plain": [
       "<Figure size 432x288 with 1 Axes>"
      ]
     },
     "metadata": {
      "needs_background": "light"
     },
     "output_type": "display_data"
    }
   ],
   "source": [
    "p = 'G2'\n",
    "pyplot.scatter(data[p], data[\"G3\"])\n",
    "pyplot.xlabel(p)\n",
    "pyplot.ylabel(\"Final grade\")\n",
    "pyplot.show()"
   ]
  },
  {
   "cell_type": "code",
   "execution_count": 14,
   "metadata": {},
   "outputs": [
    {
     "data": {
      "image/png": "[encoded data removed]",
      "text/plain": [
       "<Figure size 432x288 with 1 Axes>"
      ]
     },
     "metadata": {
      "needs_background": "light"
     },
     "output_type": "display_data"
    }
   ],
   "source": [
    "p = 'G3'\n",
    "pyplot.scatter(data[p], data[\"G1\"])\n",
    "pyplot.xlabel(p)\n",
    "pyplot.ylabel(\"Final grade\")\n",
    "pyplot.show()"
   ]
  }
 ],
 "metadata": {
  "kernelspec": {
   "display_name": "Python 3",
   "language": "python",
   "name": "python3"
  },
  "language_info": {
   "codemirror_mode": {
    "name": "ipython",
    "version": 3
   },
   "file_extension": ".py",
   "mimetype": "text/x-python",
   "name": "python",
   "nbconvert_exporter": "python",
   "pygments_lexer": "ipython3",
   "version": "3.7.5"
  }
 },
 "nbformat": 4,
 "nbformat_minor": 4
}
